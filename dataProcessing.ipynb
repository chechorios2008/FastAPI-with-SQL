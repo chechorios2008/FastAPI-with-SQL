{
 "cells": [
  {
   "cell_type": "code",
   "execution_count": 1,
   "id": "3c435fc3",
   "metadata": {},
   "outputs": [],
   "source": [
    "#Procesamiento\n",
    "import pandas as pd\n",
    "import numpy as np\n",
    "from datetime import datetime\n",
    "import datetime as dt\n",
    "import re\n",
    "from dateutil.parser import parse\n",
    "#Visualización\n",
    "import matplotlib as plt\n",
    "import matplotlib.pyplot as plt\n",
    "import seaborn as sns\n",
    "import plotly.graph_objects as go"
   ]
  },
  {
   "cell_type": "code",
   "execution_count": 2,
   "id": "e9d8dab3",
   "metadata": {
    "scrolled": true
   },
   "outputs": [
    {
     "data": {
      "text/html": [
       "<div>\n",
       "<style scoped>\n",
       "    .dataframe tbody tr th:only-of-type {\n",
       "        vertical-align: middle;\n",
       "    }\n",
       "\n",
       "    .dataframe tbody tr th {\n",
       "        vertical-align: top;\n",
       "    }\n",
       "\n",
       "    .dataframe thead th {\n",
       "        text-align: right;\n",
       "    }\n",
       "</style>\n",
       "<table border=\"1\" class=\"dataframe\">\n",
       "  <thead>\n",
       "    <tr style=\"text-align: right;\">\n",
       "      <th></th>\n",
       "      <th>TipoIdentificacionCodigo</th>\n",
       "      <th>NumeroIdentificacion</th>\n",
       "      <th>Nombre</th>\n",
       "      <th>Apellido</th>\n",
       "      <th>FecNacimiento</th>\n",
       "      <th>EstadoLaboralCodigo</th>\n",
       "      <th>Sexo</th>\n",
       "      <th>Genero</th>\n",
       "      <th>Estudiante</th>\n",
       "      <th>EstadoCodigo</th>\n",
       "      <th>PersonasACargo</th>\n",
       "      <th>Foto</th>\n",
       "      <th>FechaCreacionCliente</th>\n",
       "      <th>Estado</th>\n",
       "    </tr>\n",
       "  </thead>\n",
       "  <tbody>\n",
       "    <tr>\n",
       "      <th>0</th>\n",
       "      <td>0</td>\n",
       "      <td>824670</td>\n",
       "      <td>GUILLERMO</td>\n",
       "      <td>RESTREPO</td>\n",
       "      <td>1984-04-02 04:18:06.197</td>\n",
       "      <td>1.0</td>\n",
       "      <td>0.0</td>\n",
       "      <td>Masculino</td>\n",
       "      <td>0.0</td>\n",
       "      <td>1.0</td>\n",
       "      <td>NaN</td>\n",
       "      <td>N</td>\n",
       "      <td>1990-01-01 00:00:00.000</td>\n",
       "      <td>No Aprobado</td>\n",
       "    </tr>\n",
       "    <tr>\n",
       "      <th>1</th>\n",
       "      <td>0</td>\n",
       "      <td>582024</td>\n",
       "      <td>DAVID</td>\n",
       "      <td>GALVEZ</td>\n",
       "      <td>1900-01-01 00:00:00.000</td>\n",
       "      <td>1.0</td>\n",
       "      <td>0.0</td>\n",
       "      <td>Masculino</td>\n",
       "      <td>0.0</td>\n",
       "      <td>1.0</td>\n",
       "      <td>NaN</td>\n",
       "      <td>N</td>\n",
       "      <td>1990-01-01 00:00:00.000</td>\n",
       "      <td>No Aprobado</td>\n",
       "    </tr>\n",
       "  </tbody>\n",
       "</table>\n",
       "</div>"
      ],
      "text/plain": [
       "   TipoIdentificacionCodigo NumeroIdentificacion     Nombre  Apellido  \\\n",
       "0                         0               824670  GUILLERMO  RESTREPO   \n",
       "1                         0               582024      DAVID    GALVEZ   \n",
       "\n",
       "             FecNacimiento  EstadoLaboralCodigo  Sexo     Genero  Estudiante  \\\n",
       "0  1984-04-02 04:18:06.197                  1.0   0.0  Masculino         0.0   \n",
       "1  1900-01-01 00:00:00.000                  1.0   0.0  Masculino         0.0   \n",
       "\n",
       "   EstadoCodigo  PersonasACargo Foto     FechaCreacionCliente       Estado  \n",
       "0           1.0             NaN    N  1990-01-01 00:00:00.000  No Aprobado  \n",
       "1           1.0             NaN    N  1990-01-01 00:00:00.000  No Aprobado  "
      ]
     },
     "execution_count": 2,
     "metadata": {},
     "output_type": "execute_result"
    }
   ],
   "source": [
    "df = pd.read_csv('pruebasetdatos.csv', sep=';')\n",
    "df = pd.DataFrame(df)\n",
    "df.head(2)"
   ]
  },
  {
   "cell_type": "markdown",
   "id": "d58bf563",
   "metadata": {},
   "source": [
    "# Análisis de calidad de datos del CSV compartido. "
   ]
  },
  {
   "cell_type": "markdown",
   "id": "4d7460c5",
   "metadata": {},
   "source": [
    "#### Tamaño del set de datos inicial."
   ]
  },
  {
   "cell_type": "code",
   "execution_count": 3,
   "id": "6e20e52a",
   "metadata": {},
   "outputs": [
    {
     "data": {
      "text/plain": [
       "(1045501, 14)"
      ]
     },
     "execution_count": 3,
     "metadata": {},
     "output_type": "execute_result"
    }
   ],
   "source": [
    "df.shape"
   ]
  },
  {
   "cell_type": "markdown",
   "id": "a6c61acb",
   "metadata": {},
   "source": [
    "#### Nombre y tipo de variables en el set de datos - RawData"
   ]
  },
  {
   "cell_type": "code",
   "execution_count": 4,
   "id": "731c83bf",
   "metadata": {
    "scrolled": true
   },
   "outputs": [
    {
     "data": {
      "text/plain": [
       "TipoIdentificacionCodigo      int64\n",
       "NumeroIdentificacion         object\n",
       "Nombre                       object\n",
       "Apellido                     object\n",
       "FecNacimiento                object\n",
       "EstadoLaboralCodigo         float64\n",
       "Sexo                        float64\n",
       "Genero                       object\n",
       "Estudiante                  float64\n",
       "EstadoCodigo                float64\n",
       "PersonasACargo              float64\n",
       "Foto                         object\n",
       "FechaCreacionCliente         object\n",
       "Estado                       object\n",
       "dtype: object"
      ]
     },
     "execution_count": 4,
     "metadata": {},
     "output_type": "execute_result"
    }
   ],
   "source": [
    "df.dtypes"
   ]
  },
  {
   "cell_type": "markdown",
   "id": "08f271f4",
   "metadata": {},
   "source": [
    "#### Cantidad de variables por tipo - RawData"
   ]
  },
  {
   "cell_type": "code",
   "execution_count": 5,
   "id": "8d27ee74",
   "metadata": {
    "scrolled": false
   },
   "outputs": [
    {
     "data": {
      "text/plain": [
       "object     8\n",
       "float64    5\n",
       "int64      1\n",
       "dtype: int64"
      ]
     },
     "execution_count": 5,
     "metadata": {},
     "output_type": "execute_result"
    }
   ],
   "source": [
    "(df.dtypes.value_counts())"
   ]
  },
  {
   "cell_type": "markdown",
   "id": "2e66579b",
   "metadata": {},
   "source": [
    "#### Identificación de valores nulos."
   ]
  },
  {
   "cell_type": "code",
   "execution_count": 6,
   "id": "952b4df0",
   "metadata": {
    "scrolled": true
   },
   "outputs": [
    {
     "data": {
      "text/plain": [
       "TipoIdentificacionCodigo    False\n",
       "NumeroIdentificacion        False\n",
       "Nombre                       True\n",
       "Apellido                     True\n",
       "FecNacimiento               False\n",
       "EstadoLaboralCodigo          True\n",
       "Sexo                         True\n",
       "Genero                       True\n",
       "Estudiante                   True\n",
       "EstadoCodigo                 True\n",
       "PersonasACargo               True\n",
       "Foto                        False\n",
       "FechaCreacionCliente        False\n",
       "Estado                      False\n",
       "dtype: bool"
      ]
     },
     "execution_count": 6,
     "metadata": {},
     "output_type": "execute_result"
    }
   ],
   "source": [
    "(df.isnull().any())"
   ]
  },
  {
   "cell_type": "markdown",
   "id": "d8b63d99",
   "metadata": {},
   "source": [
    "#### Cantidad y porcentaje de valores nulos por variales."
   ]
  },
  {
   "cell_type": "code",
   "execution_count": 7,
   "id": "10b00b38",
   "metadata": {
    "scrolled": true
   },
   "outputs": [
    {
     "data": {
      "text/html": [
       "<div>\n",
       "<style scoped>\n",
       "    .dataframe tbody tr th:only-of-type {\n",
       "        vertical-align: middle;\n",
       "    }\n",
       "\n",
       "    .dataframe tbody tr th {\n",
       "        vertical-align: top;\n",
       "    }\n",
       "\n",
       "    .dataframe thead th {\n",
       "        text-align: right;\n",
       "    }\n",
       "</style>\n",
       "<table border=\"1\" class=\"dataframe\">\n",
       "  <thead>\n",
       "    <tr style=\"text-align: right;\">\n",
       "      <th></th>\n",
       "      <th>Cant Null</th>\n",
       "      <th>% valores Null</th>\n",
       "    </tr>\n",
       "  </thead>\n",
       "  <tbody>\n",
       "    <tr>\n",
       "      <th>TipoIdentificacionCodigo</th>\n",
       "      <td>0</td>\n",
       "      <td>0.00</td>\n",
       "    </tr>\n",
       "    <tr>\n",
       "      <th>NumeroIdentificacion</th>\n",
       "      <td>0</td>\n",
       "      <td>0.00</td>\n",
       "    </tr>\n",
       "    <tr>\n",
       "      <th>Nombre</th>\n",
       "      <td>48</td>\n",
       "      <td>0.00</td>\n",
       "    </tr>\n",
       "    <tr>\n",
       "      <th>Apellido</th>\n",
       "      <td>41099</td>\n",
       "      <td>3.93</td>\n",
       "    </tr>\n",
       "    <tr>\n",
       "      <th>FecNacimiento</th>\n",
       "      <td>0</td>\n",
       "      <td>0.00</td>\n",
       "    </tr>\n",
       "    <tr>\n",
       "      <th>EstadoLaboralCodigo</th>\n",
       "      <td>2371</td>\n",
       "      <td>0.23</td>\n",
       "    </tr>\n",
       "    <tr>\n",
       "      <th>Sexo</th>\n",
       "      <td>2371</td>\n",
       "      <td>0.23</td>\n",
       "    </tr>\n",
       "    <tr>\n",
       "      <th>Genero</th>\n",
       "      <td>48149</td>\n",
       "      <td>4.61</td>\n",
       "    </tr>\n",
       "    <tr>\n",
       "      <th>Estudiante</th>\n",
       "      <td>2373</td>\n",
       "      <td>0.23</td>\n",
       "    </tr>\n",
       "    <tr>\n",
       "      <th>EstadoCodigo</th>\n",
       "      <td>780465</td>\n",
       "      <td>74.65</td>\n",
       "    </tr>\n",
       "    <tr>\n",
       "      <th>PersonasACargo</th>\n",
       "      <td>505442</td>\n",
       "      <td>48.34</td>\n",
       "    </tr>\n",
       "    <tr>\n",
       "      <th>Foto</th>\n",
       "      <td>0</td>\n",
       "      <td>0.00</td>\n",
       "    </tr>\n",
       "    <tr>\n",
       "      <th>FechaCreacionCliente</th>\n",
       "      <td>0</td>\n",
       "      <td>0.00</td>\n",
       "    </tr>\n",
       "    <tr>\n",
       "      <th>Estado</th>\n",
       "      <td>0</td>\n",
       "      <td>0.00</td>\n",
       "    </tr>\n",
       "  </tbody>\n",
       "</table>\n",
       "</div>"
      ],
      "text/plain": [
       "                          Cant Null  % valores Null\n",
       "TipoIdentificacionCodigo          0            0.00\n",
       "NumeroIdentificacion              0            0.00\n",
       "Nombre                           48            0.00\n",
       "Apellido                      41099            3.93\n",
       "FecNacimiento                     0            0.00\n",
       "EstadoLaboralCodigo            2371            0.23\n",
       "Sexo                           2371            0.23\n",
       "Genero                        48149            4.61\n",
       "Estudiante                     2373            0.23\n",
       "EstadoCodigo                 780465           74.65\n",
       "PersonasACargo               505442           48.34\n",
       "Foto                              0            0.00\n",
       "FechaCreacionCliente              0            0.00\n",
       "Estado                            0            0.00"
      ]
     },
     "execution_count": 7,
     "metadata": {},
     "output_type": "execute_result"
    }
   ],
   "source": [
    "largo = len(df)\n",
    "catNull = (df.isnull().sum())\n",
    "catNull = pd.DataFrame(catNull)\n",
    "catNull.columns = ['Cant Null']\n",
    "catNull['% valores Null'] = ((catNull['Cant Null']/largo)*100).round(2)\n",
    "catNull"
   ]
  },
  {
   "cell_type": "markdown",
   "id": "7c3ec861",
   "metadata": {},
   "source": [
    "#### Grafica: proporción de valores nulos por variable."
   ]
  },
  {
   "cell_type": "code",
   "execution_count": 8,
   "id": "1fb60803",
   "metadata": {
    "scrolled": false
   },
   "outputs": [
    {
     "data": {
      "text/plain": [
       "<seaborn.axisgrid.FacetGrid at 0x2cac221ba90>"
      ]
     },
     "execution_count": 8,
     "metadata": {},
     "output_type": "execute_result"
    },
    {
     "data": {
      "image/png": "[encoded data removed]",
      "text/plain": [
       "<Figure size 1084.88x500 with 1 Axes>"
      ]
     },
     "metadata": {},
     "output_type": "display_data"
    }
   ],
   "source": [
    "(\n",
    "    df.isnull()\n",
    "    .melt().pipe(\n",
    "        lambda i:(\n",
    "            sns.displot(\n",
    "                data = i,\n",
    "                y = 'variable',\n",
    "                hue = 'value',\n",
    "                multiple = 'fill',\n",
    "                aspect = 2\n",
    "            )\n",
    "        )\n",
    "    )\n",
    ")"
   ]
  },
  {
   "cell_type": "code",
   "execution_count": 9,
   "id": "b7d830b3",
   "metadata": {},
   "outputs": [],
   "source": [
    "df_1 = df.copy()"
   ]
  },
  {
   "cell_type": "markdown",
   "id": "09413dd1",
   "metadata": {},
   "source": [
    "### Busqueda de otros valores faltantes o errores diferentes a los que identifica el programa inicialmente."
   ]
  },
  {
   "cell_type": "markdown",
   "id": "72e83d58",
   "metadata": {},
   "source": [
    "#### Identificación de errores columna \"NumeroIdentificacion\""
   ]
  },
  {
   "cell_type": "code",
   "execution_count": 10,
   "id": "33af0e8a",
   "metadata": {},
   "outputs": [
    {
     "name": "stdout",
     "output_type": "stream",
     "text": [
      "Cantidad de errores columna NumeroIdentificacion: 151428\n"
     ]
    }
   ],
   "source": [
    "#Identificación de Letras.\n",
    "df_1['LetEnId'] = df_1['NumeroIdentificacion'].str.count('[a-zA-Z]')\n",
    "#Identificación de Caracteres especiales.\n",
    "df_1['CarEnId'] = df_1['NumeroIdentificacion'].str.count('[^a-zA-Z0-9 ]')\n",
    "df_1['Error_Id'] = df_1.apply(lambda x: 0 if (x['LetEnId'] == 0 and x['CarEnId'] == 0) else 1, axis=1)\n",
    "E_NumIde = len(df_1[df_1['Error_Id'] == 1 ])\n",
    "print('Cantidad de errores columna NumeroIdentificacion:',E_NumIde)"
   ]
  },
  {
   "cell_type": "markdown",
   "id": "75a28af7",
   "metadata": {},
   "source": [
    "#### Identificación de errores columna \"Nombre\""
   ]
  },
  {
   "cell_type": "code",
   "execution_count": 11,
   "id": "840547c5",
   "metadata": {},
   "outputs": [
    {
     "name": "stdout",
     "output_type": "stream",
     "text": [
      "Cantidad de errores en la columna Nombre: 408\n"
     ]
    }
   ],
   "source": [
    "patron = r\"[^a-zA-Z0-9ñÑáéíóúüÁÉÍÓÚÜ\\s]\"\n",
    "#Identificar números.\n",
    "df_1['NumNomb'] = df_1['Nombre'].apply(lambda x: str(x).isnumeric())\n",
    "#Identificar Caracteres especiales.\n",
    "df_1['EspNom'] = df_1['Nombre'].apply(lambda x: bool(re.search(patron, str(x))))\n",
    "df_1['Error_Nombre'] = df_1.apply(lambda x: False if (x['NumNomb'] == False and x['EspNom'] == False) else True, axis=1)\n",
    "E_Nombre = len(df_1[df_1['Error_Nombre'] == True ])\n",
    "print('Cantidad de errores en la columna Nombre:', E_Nombre)"
   ]
  },
  {
   "cell_type": "markdown",
   "id": "54b26945",
   "metadata": {},
   "source": [
    "#### Identificación de errores columna \"Apellido\""
   ]
  },
  {
   "cell_type": "code",
   "execution_count": 12,
   "id": "d8e59e79",
   "metadata": {},
   "outputs": [
    {
     "name": "stdout",
     "output_type": "stream",
     "text": [
      "Cantidad de errores en la columna Apellido: 2260\n"
     ]
    }
   ],
   "source": [
    "#Identificar números.\n",
    "df_1['NumApe'] = df_1['Apellido'].apply(lambda x: str(x).isnumeric())\n",
    "#Identificar Caracteres especiales.\n",
    "df_1['EspApll'] = df_1['Apellido'].apply(lambda x: bool(re.search(patron, str(x))))\n",
    "df_1['Error_Apell'] = df_1.apply(lambda x: False if (x['NumApe'] == False and x['EspApll'] == False) else True, axis=1)\n",
    "E_Apellido = len(df_1[df_1['Error_Apell'] == True ])\n",
    "print('Cantidad de errores en la columna Apellido:', E_Apellido)"
   ]
  },
  {
   "cell_type": "markdown",
   "id": "05ba63d7",
   "metadata": {},
   "source": [
    "#### Identificación de errores columna \"FecNacimiento\""
   ]
  },
  {
   "cell_type": "code",
   "execution_count": 13,
   "id": "cf40d59b",
   "metadata": {
    "scrolled": true
   },
   "outputs": [
    {
     "name": "stdout",
     "output_type": "stream",
     "text": [
      "Cantidad de errores en la columna FecNacimiento: 8\n"
     ]
    }
   ],
   "source": [
    "ValidaFecha_1 = pd.to_datetime(df_1['FecNacimiento'], errors='coerce').notnull()\n",
    "df_1['ValidaFecha'] = ValidaFecha_1\n",
    "E_FecNac = len(df_1[df_1['ValidaFecha'] == False ])\n",
    "print('Cantidad de errores en la columna FecNacimiento:', E_FecNac)"
   ]
  },
  {
   "cell_type": "markdown",
   "id": "00c8e6d2",
   "metadata": {},
   "source": [
    "#### Identificación de errores columna \"FechaCreacionCliente\""
   ]
  },
  {
   "cell_type": "code",
   "execution_count": 14,
   "id": "226c40e4",
   "metadata": {},
   "outputs": [
    {
     "name": "stdout",
     "output_type": "stream",
     "text": [
      "Cantidad de errores en la columna FechaCreacionCliente: 0\n"
     ]
    }
   ],
   "source": [
    "ValidaFecha_2 = pd.to_datetime(df_1['FechaCreacionCliente'], errors='coerce').notnull()\n",
    "df_1['ValidaFechaCre'] = ValidaFecha_2\n",
    "E_FecCre = len(df_1[df_1['ValidaFechaCre'] == False ])\n",
    "print('Cantidad de errores en la columna FechaCreacionCliente:', E_FecCre)"
   ]
  },
  {
   "cell_type": "code",
   "execution_count": 15,
   "id": "821e2fa4",
   "metadata": {
    "scrolled": true
   },
   "outputs": [
    {
     "data": {
      "text/html": [
       "<div>\n",
       "<style scoped>\n",
       "    .dataframe tbody tr th:only-of-type {\n",
       "        vertical-align: middle;\n",
       "    }\n",
       "\n",
       "    .dataframe tbody tr th {\n",
       "        vertical-align: top;\n",
       "    }\n",
       "\n",
       "    .dataframe thead th {\n",
       "        text-align: right;\n",
       "    }\n",
       "</style>\n",
       "<table border=\"1\" class=\"dataframe\">\n",
       "  <thead>\n",
       "    <tr style=\"text-align: right;\">\n",
       "      <th></th>\n",
       "      <th>Cant Null</th>\n",
       "      <th>% valores Null</th>\n",
       "      <th>Cant Errores</th>\n",
       "      <th>% Cant Errores</th>\n",
       "    </tr>\n",
       "  </thead>\n",
       "  <tbody>\n",
       "    <tr>\n",
       "      <th>TipoIdentificacionCodigo</th>\n",
       "      <td>0</td>\n",
       "      <td>0.00</td>\n",
       "      <td>0</td>\n",
       "      <td>0.00</td>\n",
       "    </tr>\n",
       "    <tr>\n",
       "      <th>NumeroIdentificacion</th>\n",
       "      <td>0</td>\n",
       "      <td>0.00</td>\n",
       "      <td>151428</td>\n",
       "      <td>14.48</td>\n",
       "    </tr>\n",
       "    <tr>\n",
       "      <th>Nombre</th>\n",
       "      <td>48</td>\n",
       "      <td>0.00</td>\n",
       "      <td>408</td>\n",
       "      <td>0.04</td>\n",
       "    </tr>\n",
       "    <tr>\n",
       "      <th>Apellido</th>\n",
       "      <td>41099</td>\n",
       "      <td>3.93</td>\n",
       "      <td>2260</td>\n",
       "      <td>0.22</td>\n",
       "    </tr>\n",
       "    <tr>\n",
       "      <th>FecNacimiento</th>\n",
       "      <td>0</td>\n",
       "      <td>0.00</td>\n",
       "      <td>8</td>\n",
       "      <td>0.00</td>\n",
       "    </tr>\n",
       "    <tr>\n",
       "      <th>EstadoLaboralCodigo</th>\n",
       "      <td>2371</td>\n",
       "      <td>0.23</td>\n",
       "      <td>0</td>\n",
       "      <td>0.00</td>\n",
       "    </tr>\n",
       "    <tr>\n",
       "      <th>Sexo</th>\n",
       "      <td>2371</td>\n",
       "      <td>0.23</td>\n",
       "      <td>0</td>\n",
       "      <td>0.00</td>\n",
       "    </tr>\n",
       "    <tr>\n",
       "      <th>Genero</th>\n",
       "      <td>48149</td>\n",
       "      <td>4.61</td>\n",
       "      <td>0</td>\n",
       "      <td>0.00</td>\n",
       "    </tr>\n",
       "    <tr>\n",
       "      <th>Estudiante</th>\n",
       "      <td>2373</td>\n",
       "      <td>0.23</td>\n",
       "      <td>0</td>\n",
       "      <td>0.00</td>\n",
       "    </tr>\n",
       "    <tr>\n",
       "      <th>EstadoCodigo</th>\n",
       "      <td>780465</td>\n",
       "      <td>74.65</td>\n",
       "      <td>0</td>\n",
       "      <td>0.00</td>\n",
       "    </tr>\n",
       "    <tr>\n",
       "      <th>PersonasACargo</th>\n",
       "      <td>505442</td>\n",
       "      <td>48.34</td>\n",
       "      <td>0</td>\n",
       "      <td>0.00</td>\n",
       "    </tr>\n",
       "    <tr>\n",
       "      <th>Foto</th>\n",
       "      <td>0</td>\n",
       "      <td>0.00</td>\n",
       "      <td>0</td>\n",
       "      <td>0.00</td>\n",
       "    </tr>\n",
       "    <tr>\n",
       "      <th>FechaCreacionCliente</th>\n",
       "      <td>0</td>\n",
       "      <td>0.00</td>\n",
       "      <td>0</td>\n",
       "      <td>0.00</td>\n",
       "    </tr>\n",
       "    <tr>\n",
       "      <th>Estado</th>\n",
       "      <td>0</td>\n",
       "      <td>0.00</td>\n",
       "      <td>0</td>\n",
       "      <td>0.00</td>\n",
       "    </tr>\n",
       "  </tbody>\n",
       "</table>\n",
       "</div>"
      ],
      "text/plain": [
       "                          Cant Null  % valores Null  Cant Errores  \\\n",
       "TipoIdentificacionCodigo          0            0.00             0   \n",
       "NumeroIdentificacion              0            0.00        151428   \n",
       "Nombre                           48            0.00           408   \n",
       "Apellido                      41099            3.93          2260   \n",
       "FecNacimiento                     0            0.00             8   \n",
       "EstadoLaboralCodigo            2371            0.23             0   \n",
       "Sexo                           2371            0.23             0   \n",
       "Genero                        48149            4.61             0   \n",
       "Estudiante                     2373            0.23             0   \n",
       "EstadoCodigo                 780465           74.65             0   \n",
       "PersonasACargo               505442           48.34             0   \n",
       "Foto                              0            0.00             0   \n",
       "FechaCreacionCliente              0            0.00             0   \n",
       "Estado                            0            0.00             0   \n",
       "\n",
       "                          % Cant Errores  \n",
       "TipoIdentificacionCodigo            0.00  \n",
       "NumeroIdentificacion               14.48  \n",
       "Nombre                              0.04  \n",
       "Apellido                            0.22  \n",
       "FecNacimiento                       0.00  \n",
       "EstadoLaboralCodigo                 0.00  \n",
       "Sexo                                0.00  \n",
       "Genero                              0.00  \n",
       "Estudiante                          0.00  \n",
       "EstadoCodigo                        0.00  \n",
       "PersonasACargo                      0.00  \n",
       "Foto                                0.00  \n",
       "FechaCreacionCliente                0.00  \n",
       "Estado                              0.00  "
      ]
     },
     "execution_count": 15,
     "metadata": {},
     "output_type": "execute_result"
    }
   ],
   "source": [
    "infoNull = catNull.copy()\n",
    "Nombreindices = infoNull.index.tolist()\n",
    "Cant_Error = pd.DataFrame([0, E_NumIde, E_Nombre, E_Apellido, E_FecNac, 0, 0, 0, 0, 0, 0, 0, E_FecCre,0], index=Nombreindices)\n",
    "ErrorTotal = pd.concat([infoNull, Cant_Error], axis=1)\n",
    "ErrorTotal = ErrorTotal.rename(columns={0:'Cant Errores'})\n",
    "ErrorTotal['% Cant Errores'] = ((ErrorTotal['Cant Errores']/largo)*100).round(2)\n",
    "ErrorTotal"
   ]
  },
  {
   "cell_type": "code",
   "execution_count": 16,
   "id": "7e0c511e",
   "metadata": {},
   "outputs": [
    {
     "data": {
      "image/png": "[encoded data removed]",
      "text/plain": [
       "<Figure size 640x480 with 1 Axes>"
      ]
     },
     "metadata": {},
     "output_type": "display_data"
    }
   ],
   "source": [
    "ColNull = ErrorTotal.loc[:,'Cant Null']\n",
    "ColErr = ErrorTotal.loc[:,'Cant Errores']\n",
    "plt.barh(Nombreindices, ColNull, color='g')\n",
    "plt.show()"
   ]
  },
  {
   "cell_type": "code",
   "execution_count": 17,
   "id": "9297cd5d",
   "metadata": {
    "scrolled": true
   },
   "outputs": [
    {
     "data": {
      "image/png": "[encoded data removed]",
      "text/plain": [
       "<Figure size 640x480 with 1 Axes>"
      ]
     },
     "metadata": {},
     "output_type": "display_data"
    }
   ],
   "source": [
    "plt.barh(Nombreindices, ColErr, color='b')\n",
    "plt.show()"
   ]
  },
  {
   "cell_type": "markdown",
   "id": "a074278e",
   "metadata": {},
   "source": [
    "# Procesmiento y limpieza de los datos. "
   ]
  },
  {
   "cell_type": "code",
   "execution_count": 19,
   "id": "986c8e02",
   "metadata": {},
   "outputs": [],
   "source": [
    "df_2 = df.copy()"
   ]
  },
  {
   "cell_type": "code",
   "execution_count": 20,
   "id": "52278071",
   "metadata": {
    "scrolled": true
   },
   "outputs": [
    {
     "name": "stderr",
     "output_type": "stream",
     "text": [
      "C:\\Users\\chech\\AppData\\Local\\Temp\\ipykernel_7376\\1195926388.py:5: FutureWarning: The default value of regex will change from True to False in a future version.\n",
      "  df_2['Nombre'] = df_2['Nombre'].str.replace(r'[^a-zA-ZñÑáéíóúÁÉÍÓÚ\\s]+', '').str.title()\n",
      "C:\\Users\\chech\\AppData\\Local\\Temp\\ipykernel_7376\\1195926388.py:8: FutureWarning: The default value of regex will change from True to False in a future version.\n",
      "  df_2['Apellido'] = df_2['Apellido'].str.replace(r'[^a-zA-ZñÑáéíóúÁÉÍÓÚ\\s]+', '').str.title()\n"
     ]
    }
   ],
   "source": [
    "#Limpiar columna NumeroIdentificacion\n",
    "df_2['NumeroIdentificacion'] = df_2['NumeroIdentificacion'].astype(str).str.replace('[^\\d]+', '', regex=True)\n",
    "#Limpiar y convertir a title datos columna Nombre\n",
    "df_2['Nombre'] = df_2['Nombre'].apply(str)\n",
    "df_2['Nombre'] = df_2['Nombre'].str.replace(r'[^a-zA-ZñÑáéíóúÁÉÍÓÚ\\s]+', '').str.title()\n",
    "#Limpiar y convertir a title datos columna Apellido\n",
    "df_2['Apellido'] = df_2['Apellido'].apply(str)\n",
    "df_2['Apellido'] = df_2['Apellido'].str.replace(r'[^a-zA-ZñÑáéíóúÁÉÍÓÚ\\s]+', '').str.title()\n",
    "#Transformar información a \"datetime\" de la columna FecNacimiento\n",
    "df_2['FecNacimiento'] = df_2['FecNacimiento'].apply(lambda x: datetime.strptime(x, '%Y-%m-%d %H:%M:%S.%f').strftime('%d-%m-%Y'))\n",
    "#Transformar información a \"datetime\" de la columna FecNacimiento\n",
    "df_2['FechaCreacionCliente'] = df_2['FechaCreacionCliente'].apply(lambda x: datetime.strptime(x, '%Y-%m-%d %H:%M:%S.%f').strftime('%d-%m-%Y'))"
   ]
  },
  {
   "cell_type": "code",
   "execution_count": 21,
   "id": "363826d0",
   "metadata": {},
   "outputs": [],
   "source": [
    "#Correción valores columnas 'Genero' y 'sexo'\n",
    "df_2['Genero'] = df_2['Genero'].replace(['Femenino', 'Female'], 'mujer')\n",
    "df_2['Genero'] = df_2['Genero'].replace(['Male', 'Masculino'], 'hombre')\n",
    "df_2['Genero'] = df_2['Genero'].replace([' '], 'NULL')"
   ]
  },
  {
   "cell_type": "code",
   "execution_count": null,
   "id": "3f658f04",
   "metadata": {},
   "outputs": [],
   "source": [
    "df_1.to_csv('informe413.xlsx')"
   ]
  }
 ],
 "metadata": {
  "kernelspec": {
   "display_name": "Python 3 (ipykernel)",
   "language": "python",
   "name": "python3"
  },
  "language_info": {
   "codemirror_mode": {
    "name": "ipython",
    "version": 3
   },
   "file_extension": ".py",
   "mimetype": "text/x-python",
   "name": "python",
   "nbconvert_exporter": "python",
   "pygments_lexer": "ipython3",
   "version": "3.9.13"
  }
 },
 "nbformat": 4,
 "nbformat_minor": 5
}
